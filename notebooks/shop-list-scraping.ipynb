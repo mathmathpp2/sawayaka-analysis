{
 "cells": [
  {
   "cell_type": "code",
   "execution_count": 1,
   "id": "052befe8-e9df-4e7d-bc76-3ef9285e6b7f",
   "metadata": {
    "scrolled": true
   },
   "outputs": [
    {
     "name": "stdout",
     "output_type": "stream",
     "text": [
      "Collecting beautifulsoup4\n",
      "  Downloading beautifulsoup4-4.9.3-py3-none-any.whl (115 kB)\n",
      "\u001b[K     |████████████████████████████████| 115 kB 365 kB/s eta 0:00:01\n",
      "\u001b[?25hCollecting soupsieve>1.2\n",
      "  Downloading soupsieve-2.2.1-py3-none-any.whl (33 kB)\n",
      "Installing collected packages: soupsieve, beautifulsoup4\n",
      "Successfully installed beautifulsoup4-4.9.3 soupsieve-2.2.1\n"
     ]
    }
   ],
   "source": [
    "!pip install beautifulsoup4"
   ]
  },
  {
   "cell_type": "code",
   "execution_count": 7,
   "id": "b3749b3f-fcfe-4ae8-aaba-3ee12fc36e0c",
   "metadata": {},
   "outputs": [],
   "source": [
    "import requests\n",
    "from bs4 import BeautifulSoup\n",
    "\n",
    "res = requests.get('https://www.genkotsu-hb.com/shop/')"
   ]
  },
  {
   "cell_type": "code",
   "execution_count": 2,
   "id": "df66f67a-b543-4837-aa08-b6535c385cdb",
   "metadata": {},
   "outputs": [],
   "source": [
    "soup = BeautifulSoup(res.text, 'html.parser')"
   ]
  },
  {
   "cell_type": "code",
   "execution_count": 4,
   "id": "f4055059-2dcf-4641-beaf-c2c22252ab2f",
   "metadata": {},
   "outputs": [],
   "source": [
    "menu = soup.find('div', {'class': 'menu_inner'})"
   ]
  },
  {
   "cell_type": "code",
   "execution_count": 5,
   "id": "94843908-36ec-43e0-8dc5-2523450d8e12",
   "metadata": {},
   "outputs": [
    {
     "name": "stdout",
     "output_type": "stream",
     "text": [
      "浜松 ['浜松篠ケ瀬店', 'イオンモール浜松市野店', '浜松白羽店', '浜松遠鉄店', '浜松和合店', '浜松有玉店', '浜松富塚店', '浜松鴨江店', '浜松高塚店', '浜松高丘店', '浜北店', '細江本店']\n",
      "湖西 ['湖西浜名湖店']\n",
      "菊川・掛川・袋井・磐田 ['菊川本店', '掛川本店', '掛川インター店', '袋井本店', '磐田本店', '豊田店']\n",
      "静岡・焼津・藤枝・島田・吉田 ['新静岡セノバ店', '静岡瀬名川店', '静岡池田店', '静岡インター店', '焼津店', '藤枝築地店', '島田店', '吉田店']\n",
      "御殿場・長泉・沼津・富士 ['御殿場プレミアム・アウトレット店', '御殿場インター店', '函南店', '長泉店', '沼津学園通り店', '富士鷹岡店', '富士錦店']\n"
     ]
    }
   ],
   "source": [
    "store_area = {}\n",
    "for area, stores in zip(menu.find_all('h3'), menu.find_all('ul')):\n",
    "    print(area.text, [store.text for store in stores.find_all('a')])\n",
    "    for store in [store.text for store in stores.find_all('a')]:\n",
    "        store_area[store] = area.text"
   ]
  },
  {
   "cell_type": "code",
   "execution_count": 6,
   "id": "5e4bae5a-b62e-4037-9988-5c333e260b04",
   "metadata": {},
   "outputs": [
    {
     "data": {
      "text/plain": [
       "{'浜松篠ケ瀬店': '浜松',\n",
       " 'イオンモール浜松市野店': '浜松',\n",
       " '浜松白羽店': '浜松',\n",
       " '浜松遠鉄店': '浜松',\n",
       " '浜松和合店': '浜松',\n",
       " '浜松有玉店': '浜松',\n",
       " '浜松富塚店': '浜松',\n",
       " '浜松鴨江店': '浜松',\n",
       " '浜松高塚店': '浜松',\n",
       " '浜松高丘店': '浜松',\n",
       " '浜北店': '浜松',\n",
       " '細江本店': '浜松',\n",
       " '湖西浜名湖店': '湖西',\n",
       " '菊川本店': '菊川・掛川・袋井・磐田',\n",
       " '掛川本店': '菊川・掛川・袋井・磐田',\n",
       " '掛川インター店': '菊川・掛川・袋井・磐田',\n",
       " '袋井本店': '菊川・掛川・袋井・磐田',\n",
       " '磐田本店': '菊川・掛川・袋井・磐田',\n",
       " '豊田店': '菊川・掛川・袋井・磐田',\n",
       " '新静岡セノバ店': '静岡・焼津・藤枝・島田・吉田',\n",
       " '静岡瀬名川店': '静岡・焼津・藤枝・島田・吉田',\n",
       " '静岡池田店': '静岡・焼津・藤枝・島田・吉田',\n",
       " '静岡インター店': '静岡・焼津・藤枝・島田・吉田',\n",
       " '焼津店': '静岡・焼津・藤枝・島田・吉田',\n",
       " '藤枝築地店': '静岡・焼津・藤枝・島田・吉田',\n",
       " '島田店': '静岡・焼津・藤枝・島田・吉田',\n",
       " '吉田店': '静岡・焼津・藤枝・島田・吉田',\n",
       " '御殿場プレミアム・アウトレット店': '御殿場・長泉・沼津・富士',\n",
       " '御殿場インター店': '御殿場・長泉・沼津・富士',\n",
       " '函南店': '御殿場・長泉・沼津・富士',\n",
       " '長泉店': '御殿場・長泉・沼津・富士',\n",
       " '沼津学園通り店': '御殿場・長泉・沼津・富士',\n",
       " '富士鷹岡店': '御殿場・長泉・沼津・富士',\n",
       " '富士錦店': '御殿場・長泉・沼津・富士'}"
      ]
     },
     "execution_count": 6,
     "metadata": {},
     "output_type": "execute_result"
    }
   ],
   "source": [
    "store_area"
   ]
  },
  {
   "cell_type": "code",
   "execution_count": 8,
   "id": "4502f44a-b299-4cd4-a5e5-0ed05ea3bf5c",
   "metadata": {},
   "outputs": [
    {
     "data": {
      "text/plain": [
       "<ul>\n",
       "<li><a href=\"/shop/gotenba_outlet.php\">御殿場プレミアム・アウトレット店</a>\n",
       "</li>\n",
       "<li><a href=\"/shop/gotenba_inter.php\">御殿場インター店</a></li>\n",
       "<li><a href=\"/shop/kannami.php\">函南店</a></li>\n",
       "<li><a href=\"/shop/nagaizumi.php\">長泉店</a></li>\n",
       "<li><a href=\"/shop/numadugakuendori.php\">沼津学園通り店</a></li>\n",
       "<li><a href=\"/shop/fujitakaoka.php\">富士鷹岡店</a></li>\n",
       "<li><a href=\"/shop/fujinishiki.php\">富士錦店</a></li>\n",
       "</ul>"
      ]
     },
     "execution_count": 8,
     "metadata": {},
     "output_type": "execute_result"
    }
   ],
   "source": [
    "stores"
   ]
  },
  {
   "cell_type": "code",
   "execution_count": 9,
   "id": "c7f524c4-cef9-4e99-9f3a-b3e0e3f4193a",
   "metadata": {},
   "outputs": [
    {
     "name": "stdout",
     "output_type": "stream",
     "text": [
      "店舗一覧｜げんこつハンバーグの炭焼きレストランさわやか\n",
      "['/', '/#favorite', '/airwait.php', 'http://www.genkotsu-hb.com/news/post-34.php', '/', '/shop/', '/shop/sasagase.php', '/shop/ichino.php', '/shop/shirowa.php', '/shop/entetsu.php', '/shop/wago.php', '/shop/aritama.php', '/shop/tomitsuka.php', '/shop/kamoe.php', '/shop/takatsuka.php', '/shop/takaoka.php', '/shop/hamakita.php', '/shop/hosoe.php', '/shop/kosai.php', '/shop/kikugawa_honten.php', '/shop/kakegawa_honten.php', '/shop/kakegawa_inter.php', '/shop/fukuroi_honten.php', '/shop/iwata_honten.php', '/shop/toyoda.php', '/shop/cenova.php', '/shop/senagawa.php', '/shop/ikeda.php', '/shop/shizuoka_inter.php', '/shop/yaizu.php', '/shop/fujiedatsukiji.php', '/shop/shimada.php', '/shop/yoshida.php', '/shop/gotenba_outlet.php', '/shop/gotenba_inter.php', '/shop/kannami.php', '/shop/nagaizumi.php', '/shop/numadugakuendori.php', '/shop/fujitakaoka.php', '/shop/fujinishiki.php', '/menu/', '/menu/lunch/', '/menu/grand/', '/menu/gotenba_outlet/', '/menu/kosai/', '/menu/child/', '/menu/dessert/', '/menu/anniversary/', '/menu/genki/', '/allergynote/', '/menu/allergynote/', '/menu/production/', '/professhonal/', '/professhonal/origin/', '/professhonal/quality/', '/professhonal/brand/', '/professhonal/virtual/', '/company/', '/company/outline/', '/company/ceo/', '/company/philosophy/', '/company/symbol/', '/company/greeting/', '/company/shopname/', '/company/factory/', '/company/sougou/', 'http://recruit.genkotsu-hb.com/', '/cgi-bin/contact/form.cgi', '/', 'https://www.google.com/maps/d/viewer?mid=1PPPNP3AjlX-RY-c8ByTq2YbZXTY&ll=34.99636883930505%2C138.20272883209304&z=10', '/shop/kannami.php', '/shop/gotenba_inter.php', '/shop/nagaizumi.php', '/shop/fujinishiki.php', '/shop/ikeda.php', '/shop/shimada.php', '/shop/kakegawa_inter.php', '/shop/shirowa.php', '/shop/takaoka.php', '/shop/tomitsuka.php', '/shop/kosai.php', '/shop/hosoe.php', '/shop/kosai.php', 'https://www.google.com/maps/d/u/2/embed?mid=1hMiAMydHgfEis86vJbayQSnNQeQkrEXD', 'https://www.google.com/maps/d/viewer?mid=1koxfDTDgD4tPcvpDCk7EZ2Xn7sYHGtxl&ll=35.2978262931618%2C138.94098845817564&z=15', 'https://www.google.com/maps/d/u/1/viewer?ll=35.1989402359823%2C138.6528333792877&z=16&mid=1XniN4c2MdFfPWr8XiuZwKU-9c6JLXS1E', 'https://www.google.com/maps/d/u/1/viewer?ll=34.81740809108887%2C137.7846774230194&z=14&mid=1uHKLTSG3BQ7HhWdizemz9GXaD5A_M1Qa', 'https://www.google.com/maps/d/u/1/viewer?ll=34.840068780496935%2C137.65468684532163&z=13&mid=1XPqw5AkdHaDVdY8PHNB70AXB7qOe5xxg', 'https://www.google.com/maps/d/u/1/viewer?ll=35.1672312566387%2C138.67890445091246&z=15&mid=1Y044Mhj_ZS1MOc4WuXrfXHZqzHCIuOsr', 'https://www.google.com/maps/d/u/1/viewer?ll=35.13747537265261%2C138.87957660057066&z=15&mid=1PGT0C9Bqv9PY0q_7rEA_eIRl_TP5BseT', 'https://www.google.com/maps/d/u/1/viewer?ll=34.94856179946901%2C138.38960406877516&z=19&mid=1OswY4vgp0oETp5GWalqlNiKxx3jiVoae', 'https://www.google.com/maps/d/u/1/viewer?ll=34.76198620990952%2C138.02291122772215&z=18&mid=1IDK5kx4TCX_6bR5CGX5P5AKyPEog2Knb', 'https://www.google.com/maps/d/u/1/viewer?ll=34.734985032421854%2C137.78639403678892&z=14&mid=1PnO4DHm3dKVafyTKQyk6FsUVQQhdFVMw', 'https://www.google.com/maps/d/u/1/viewer?ll=34.76114836724161%2C137.68897620536802&z=16&mid=1jW01Saos8pA-2IjVyo7cm-s4vX-BRx13', 'https://www.google.com/maps/d/u/2/embed?mid=19DKMd7W_1wEHEBenAljB1uMlR431iWHY', 'https://www.google.com/maps/d/u/1/viewer?ll=35.30034786660407%2C138.9363858840759&z=18&mid=1w5vt4pRUXfY8c5bUFbJ7nANFl8OZGnlh', 'https://www.google.com/maps/d/u/1/viewer?ll=35.13374951305112%2C138.90853382566524&z=16&mid=1Q2bEeX5Mm1ylsSsCZJ-JLOX97IJ4WvZL', 'https://www.google.com/maps/d/u/1/viewer?ll=34.9740664789789%2C138.38693000295711&z=18&mid=1HWkOyBVl1Ilb68LgGPqXdHzuacuniMuy', 'https://www.google.com/maps/d/u/1/viewer?ll=34.77271198461633%2C137.9938174031074&z=18&mid=1WxjtGk9fQRJvmhJS9pKQQz-f6ZSU4370', 'https://drive.google.com/open?id=1-69dO0AQus5BW6XDmsAen9rC3vMl0sRi&usp=sharing', 'https://www.google.com/maps/d/u/1/viewer?ll=34.72091238141509%2C137.77759648778988&z=16&mid=1nwokOfD6Qxu-Y9Z2iuugZIWdITJ-EZ3y', 'https://drive.google.com/open?id=1xqn9Mrm7SacmnPFbNWnZxBvyxFuGQBQM&usp=sharing', 'https://www.google.com/maps/d/u/1/viewer?ll=34.70532546186661%2C137.71868444898678&z=15&mid=1wl2p6ttLZkqgQiym2zgqtBMRs3r44QP6', 'https://www.google.com/maps/d/u/1/viewer?ll=34.68911322123285%2C137.67885979629511&z=18&mid=1DHm8_pHSPMQJSrtSBziowIz6052PJQ34', '#hamamatsu', '#kosai', '#ogasa', '#shizuoka', '#west', '#', 'sasagase.php', '#', 'ichino.php', '#', 'shirowa.php', '#', 'entetsu.php', '#', 'wago.php', '#', 'aritama.php', '#', 'tomitsuka.php', '#', 'kamoe.php', '#', 'takatsuka.php', '#', 'takaoka.php', '#', 'hamakita.php', '#', 'hosoe.php', '#', 'kosai.php', '#', 'kikugawa_honten.php', '#', 'kakegawa_honten.php', '#', 'kakegawa_inter.php', '#', 'fukuroi_honten.php', '#', 'iwata_honten.php', '#', 'toyoda.php', '#', 'cenova.php', '#', 'senagawa.php', '#', 'ikeda.php', '#', 'shizuoka_inter.php', '#', 'yaizu.php', '#', 'fujiedatsukiji.php', '#', 'shimada.php', '#', 'yoshida.php', '#', 'gotenba_outlet.php', '#', 'gotenba_inter.php', '#', 'kannami.php', '#', 'nagaizumi.php', '#', 'numadugakuendori.php', '#', 'fujitakaoka.php', '#', 'fujinishiki.php', '#', '/news/', '/faq/', '/shop/', '/menu/', '/news/', '/professhonal/', '/company/', 'http://recruit.genkotsu-hb.com/', '/cgi-bin/contact/form.cgi', '/faq/', '/gift/', '/sitemap/', '/shop/']\n",
      "0\n"
     ]
    }
   ],
   "source": [
    "\n",
    "# title タグの文字列を取得する\n",
    "title_text = soup.find('title').get_text()\n",
    "print(title_text)\n",
    "# > Quotes to Scrape\n",
    "\n",
    "# ページに含まれるリンクを全て取得する\n",
    "links = [url.get('href') for url in soup.find_all('a')]\n",
    "print(links)\n",
    "# > ['/', '/login', '/author/Albert-Einstein', '/tag/change/page/1/', '/tag/deep-thoughts/page/1/', '/tag/thinking/page/1/', '/tag/world/page/1/', '/author/J-K-Rowling', '/tag/abilities/page/1/', '/tag/choices/page/1/', '/author/Albert-Einstein', '/tag/inspirational/page/1/', '/tag/life/page/1/', '/tag/live/page/1/', '/tag/miracle/page/1/', '/tag/miracles/page/1/', '/author/Jane-Austen', '/tag/aliteracy/page/1/', '/tag/books/page/1/', '/tag/classic/page/1/', '/tag/humor/page/1/', '/author/Marilyn-Monroe', '/tag/be-yourself/page/1/', '/tag/inspirational/page/1/', '/author/Albert-Einstein', '/tag/adulthood/page/1/', '/tag/success/page/1/', '/tag/value/page/1/', '/author/Andre-Gide', '/tag/life/page/1/', '/tag/love/page/1/', '/author/Thomas-A-Edison', '/tag/edison/page/1/', '/tag/failure/page/1/', '/tag/inspirational/page/1/', '/tag/paraphrased/page/1/', '/author/Eleanor-Roosevelt', '/tag/misattributed-eleanor-roosevelt/page/1/', '/author/Steve-Martin', '/tag/humor/page/1/', '/tag/obvious/page/1/', '/tag/simile/page/1/', '/page/2/', '/tag/love/', '/tag/inspirational/', '/tag/life/', '/tag/humor/', '/tag/books/', '/tag/reading/', '/tag/friendship/', '/tag/friends/', '/tag/truth/', '/tag/simile/', 'https://www.goodreads.com/quotes', 'https://scrapinghub.com']\n",
    "\n",
    "# class が quote の div 要素を全て取得する\n",
    "quote_elms = soup.find_all('div', {'class': 'quote'})\n",
    "print(len(quote_elms))\n",
    "# > 10"
   ]
  },
  {
   "cell_type": "code",
   "execution_count": null,
   "id": "1e5267c2",
   "metadata": {},
   "outputs": [],
   "source": []
  }
 ],
 "metadata": {
  "kernelspec": {
   "display_name": "Python 3 (ipykernel)",
   "language": "python",
   "name": "python3"
  },
  "language_info": {
   "codemirror_mode": {
    "name": "ipython",
    "version": 3
   },
   "file_extension": ".py",
   "mimetype": "text/x-python",
   "name": "python",
   "nbconvert_exporter": "python",
   "pygments_lexer": "ipython3",
   "version": "3.9.15"
  }
 },
 "nbformat": 4,
 "nbformat_minor": 5
}
